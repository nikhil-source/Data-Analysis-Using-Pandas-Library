{
 "cells": [
  {
   "cell_type": "markdown",
   "metadata": {},
   "source": [
    "# <font color=blue|red|green|pink|yellow>CIA-3 : Working with Pandas on Adult data set</font>"
   ]
  },
  {
   "cell_type": "markdown",
   "metadata": {},
   "source": [
    "#### Import the Library"
   ]
  },
  {
   "cell_type": "code",
   "execution_count": 67,
   "metadata": {},
   "outputs": [],
   "source": [
    "import pandas as pd\n",
    "import numpy as np\n",
    "import tkinter as tk\n",
    "from tkinter import filedialog"
   ]
  },
  {
   "cell_type": "markdown",
   "metadata": {},
   "source": [
    "#### Loading the Datset "
   ]
  },
  {
   "cell_type": "code",
   "execution_count": 108,
   "metadata": {},
   "outputs": [],
   "source": [
    "a=[]\n",
    "r= tk.Tk()\n",
    "canvas1 = tk.Canvas(r, width = 300, height = 300, bg = 'lightsteelblue2')\n",
    "canvas1.pack()\n",
    "\n",
    "def getCSV ():\n",
    "    global data\n",
    "    file = filedialog.askopenfilename()\n",
    "    data = pd.read_csv (file)\n",
    "Button = tk.Button(text=\"      Import CSV File     \", command=getCSV, bg='green', fg='white', font=('helvetica', 12, 'bold'))\n",
    "canvas1.create_window(150, 150, window=Button)\n",
    "r.mainloop()"
   ]
  },
  {
   "cell_type": "code",
   "execution_count": 109,
   "metadata": {},
   "outputs": [
    {
     "data": {
      "text/html": [
       "<div>\n",
       "<style scoped>\n",
       "    .dataframe tbody tr th:only-of-type {\n",
       "        vertical-align: middle;\n",
       "    }\n",
       "\n",
       "    .dataframe tbody tr th {\n",
       "        vertical-align: top;\n",
       "    }\n",
       "\n",
       "    .dataframe thead th {\n",
       "        text-align: right;\n",
       "    }\n",
       "</style>\n",
       "<table border=\"1\" class=\"dataframe\">\n",
       "  <thead>\n",
       "    <tr style=\"text-align: right;\">\n",
       "      <th></th>\n",
       "      <th>age</th>\n",
       "      <th>workclass</th>\n",
       "      <th>fnlwgt</th>\n",
       "      <th>education</th>\n",
       "      <th>education-num</th>\n",
       "      <th>marital-status</th>\n",
       "      <th>occupation</th>\n",
       "      <th>relationship</th>\n",
       "      <th>race</th>\n",
       "      <th>sex</th>\n",
       "      <th>capital-gain</th>\n",
       "      <th>capital-loss</th>\n",
       "      <th>hours-per-week</th>\n",
       "      <th>native-country</th>\n",
       "      <th>salary</th>\n",
       "    </tr>\n",
       "  </thead>\n",
       "  <tbody>\n",
       "    <tr>\n",
       "      <th>0</th>\n",
       "      <td>39</td>\n",
       "      <td>State-gov</td>\n",
       "      <td>77516</td>\n",
       "      <td>Bachelors</td>\n",
       "      <td>13</td>\n",
       "      <td>Never-married</td>\n",
       "      <td>Adm-clerical</td>\n",
       "      <td>Not-in-family</td>\n",
       "      <td>White</td>\n",
       "      <td>Male</td>\n",
       "      <td>2174</td>\n",
       "      <td>0</td>\n",
       "      <td>40</td>\n",
       "      <td>United-States</td>\n",
       "      <td>&lt;=50K</td>\n",
       "    </tr>\n",
       "    <tr>\n",
       "      <th>1</th>\n",
       "      <td>50</td>\n",
       "      <td>Self-emp-not-inc</td>\n",
       "      <td>83311</td>\n",
       "      <td>Bachelors</td>\n",
       "      <td>13</td>\n",
       "      <td>Married-civ-spouse</td>\n",
       "      <td>Exec-managerial</td>\n",
       "      <td>Husband</td>\n",
       "      <td>White</td>\n",
       "      <td>Male</td>\n",
       "      <td>0</td>\n",
       "      <td>0</td>\n",
       "      <td>13</td>\n",
       "      <td>United-States</td>\n",
       "      <td>&lt;=50K</td>\n",
       "    </tr>\n",
       "    <tr>\n",
       "      <th>2</th>\n",
       "      <td>38</td>\n",
       "      <td>Private</td>\n",
       "      <td>215646</td>\n",
       "      <td>HS-grad</td>\n",
       "      <td>9</td>\n",
       "      <td>Divorced</td>\n",
       "      <td>Handlers-cleaners</td>\n",
       "      <td>Not-in-family</td>\n",
       "      <td>White</td>\n",
       "      <td>Male</td>\n",
       "      <td>0</td>\n",
       "      <td>0</td>\n",
       "      <td>40</td>\n",
       "      <td>United-States</td>\n",
       "      <td>&lt;=50K</td>\n",
       "    </tr>\n",
       "  </tbody>\n",
       "</table>\n",
       "</div>"
      ],
      "text/plain": [
       "   age         workclass  fnlwgt  education  education-num  \\\n",
       "0   39         State-gov   77516  Bachelors             13   \n",
       "1   50  Self-emp-not-inc   83311  Bachelors             13   \n",
       "2   38           Private  215646    HS-grad              9   \n",
       "\n",
       "       marital-status         occupation   relationship   race   sex  \\\n",
       "0       Never-married       Adm-clerical  Not-in-family  White  Male   \n",
       "1  Married-civ-spouse    Exec-managerial        Husband  White  Male   \n",
       "2            Divorced  Handlers-cleaners  Not-in-family  White  Male   \n",
       "\n",
       "   capital-gain  capital-loss  hours-per-week native-country salary  \n",
       "0          2174             0              40  United-States  <=50K  \n",
       "1             0             0              13  United-States  <=50K  \n",
       "2             0             0              40  United-States  <=50K  "
      ]
     },
     "execution_count": 109,
     "metadata": {},
     "output_type": "execute_result"
    }
   ],
   "source": [
    "data.head(3) # Shows the top 3 rows "
   ]
  },
  {
   "cell_type": "markdown",
   "metadata": {},
   "source": [
    "#### Question1 : How many men and women (sex feature) are represented in this dataset?\n"
   ]
  },
  {
   "cell_type": "code",
   "execution_count": 113,
   "metadata": {},
   "outputs": [
    {
     "name": "stdout",
     "output_type": "stream",
     "text": [
      "\t\t=================output======================\n",
      "The number of Male and female given below :\n",
      " Male      21790\n",
      "Female    10771\n",
      "Name: sex, dtype: int64\n"
     ]
    }
   ],
   "source": [
    "#Answer:\n",
    "\n",
    "print(\"\\t\\t=================output======================\")\n",
    "count=data['sex'].value_counts() \n",
    "print(\"The number of Male and female given below :\\n\",count)\n",
    "\n",
    "# Value_counts Function will return the counts of object in the dataset."
   ]
  },
  {
   "cell_type": "markdown",
   "metadata": {},
   "source": [
    "#### Question 2: What is the average age (age feature) of women?\n",
    " "
   ]
  },
  {
   "cell_type": "code",
   "execution_count": 114,
   "metadata": {},
   "outputs": [
    {
     "name": "stdout",
     "output_type": "stream",
     "text": [
      "\t\t=================output======================\n",
      "Average age of female is: 36.9\n"
     ]
    }
   ],
   "source": [
    "#Answer:\n",
    "print(\"\\t\\t=================output======================\")\n",
    "avg=data[data['sex']=='Female'].mean()['age']\n",
    "print(\"Average age of female is:\",round(avg,1))"
   ]
  },
  {
   "cell_type": "markdown",
   "metadata": {},
   "source": [
    "#### Question 3: What is the percentage of German citizens (native-country feature)?\n"
   ]
  },
  {
   "cell_type": "code",
   "execution_count": 117,
   "metadata": {},
   "outputs": [
    {
     "name": "stdout",
     "output_type": "stream",
     "text": [
      "The Number of people mentioned here: 32561\n",
      "The Number of Germans : 137\n",
      "The Percenatge of Germans are: 0.42074874850281013\n"
     ]
    }
   ],
   "source": [
    "# Answer :\n",
    "# First we are trying how many rows are there in the datset\n",
    "numOfRows = data.shape[0]\n",
    "print(\"The Number of people mentioned here:\",numOfRows)\n",
    "Number_Of_germans=len(data[data[\"native-country\"]==\"Germany\"])\n",
    "print(\"The Number of Germans :\",Number_Of_germans)\n",
    "Percentage=(Number_Of_germans/numOfRows)*100\n",
    "print(\"The Percenatge of Germans are:\",Percentage)"
   ]
  },
  {
   "cell_type": "markdown",
   "metadata": {},
   "source": [
    "#### Question 4-5: What are the mean and standard deviation of age for those who earn more than 50K per year (salary feature) and those who earn less than 50K per year?\n"
   ]
  },
  {
   "cell_type": "code",
   "execution_count": 118,
   "metadata": {},
   "outputs": [
    {
     "name": "stdout",
     "output_type": "stream",
     "text": [
      "The mean of age whose salary <=50K and >=50K is given below:\n",
      "  salary\n",
      "<=50K    36.783738\n",
      ">50K     44.249841\n",
      "Name: age, dtype: float64\n",
      "The Std.deviation of age whose salary <=50K and >=50K is:\n",
      "  salary\n",
      "<=50K    14.020088\n",
      ">50K     10.519028\n",
      "Name: age, dtype: float64\n"
     ]
    }
   ],
   "source": [
    "#Answer:\n",
    "mean=data.groupby('salary')['age'].mean()\n",
    "print(\"The mean of age whose salary <=50K and >=50K is given below:\\n \",  mean)\n",
    "std=data.groupby('salary')['age'].std()\n",
    "print(\"The Std.deviation of age whose salary <=50K and >=50K is:\\n \",std)"
   ]
  },
  {
   "cell_type": "markdown",
   "metadata": {},
   "source": [
    "#### Question6. Is it true that people who earn more than 50K have at least high school education? (education – Bachelors, Prof-school, Assoc-acdm, Assoc-voc, Masters or Doctorate \n",
    "\n"
   ]
  },
  {
   "cell_type": "code",
   "execution_count": 121,
   "metadata": {},
   "outputs": [
    {
     "name": "stdout",
     "output_type": "stream",
     "text": [
      "\t\t=================output======================\n",
      "There are 3306 no of people who are getting more than 50K without higher education\n",
      "So it is not true that people who earn more than 50K have at least high school education\n"
     ]
    }
   ],
   "source": [
    "#Answer :\n",
    "\n",
    "cnt=data[(data['salary']=='>50K')&(data['education']!='Assoc-acdm')&(data['education']!='Bachelors')&(data['education']!='Assoc-voc')&(data['education']!='Prof-school')&(data['education']!='Masters')&(data['education']!='Doctorate')].count()['salary']\n",
    "print(\"\\t\\t=================output======================\")\n",
    "print(\"There are %d no of people who are getting more than 50K without higher education\"%cnt)\n",
    "print(\"So it is not true that people who earn more than 50K have at least high school education\")"
   ]
  },
  {
   "cell_type": "markdown",
   "metadata": {},
   "source": [
    "#### Question 7 :Display age statistics for each race (race feature) and each gender (sex feature). Use groupby() and describe(). Find the maximum age of men of Amer-Indian-Eskimo race\n",
    "\n"
   ]
  },
  {
   "cell_type": "code",
   "execution_count": 120,
   "metadata": {},
   "outputs": [
    {
     "name": "stdout",
     "output_type": "stream",
     "text": [
      "\t\t=================output======================\n",
      "                      count       mean        std   min   25%   50%   75%  \\\n",
      "race                                                                        \n",
      "Amer-Indian-Eskimo    311.0  37.173633  12.447130  17.0  28.0  35.0  45.5   \n",
      "Asian-Pac-Islander   1039.0  37.746872  12.825133  17.0  28.0  36.0  45.0   \n",
      "Black                3124.0  37.767926  12.759290  17.0  28.0  36.0  46.0   \n",
      "Other                 271.0  33.457565  11.538865  17.0  25.0  31.0  41.0   \n",
      "White               27816.0  38.769881  13.782306  17.0  28.0  37.0  48.0   \n",
      "\n",
      "                     max  \n",
      "race                      \n",
      "Amer-Indian-Eskimo  82.0  \n",
      "Asian-Pac-Islander  90.0  \n",
      "Black               90.0  \n",
      "Other               77.0  \n",
      "White               90.0  \n",
      "                    count unique   top   freq\n",
      "race                                         \n",
      "Amer-Indian-Eskimo    311      2  Male    192\n",
      "Asian-Pac-Islander   1039      2  Male    693\n",
      "Black                3124      2  Male   1569\n",
      "Other                 271      2  Male    162\n",
      "White               27816      2  Male  19174\n",
      "Maximum age of men of Amer-Indian-Eskimo race: 82\n"
     ]
    }
   ],
   "source": [
    "#Answer:\n",
    "print(\"\\t\\t=================output======================\")\n",
    "race=data.groupby('race')['age'].describe()\n",
    "print(race)\n",
    "gender=data.groupby('race')['sex'].describe()\n",
    "print(gender)\n",
    "substr=data[(data['race']=='Amer-Indian-Eskimo')&(data['sex']=='Male')]\n",
    "print(\"Maximum age of men of Amer-Indian-Eskimo race:\",substr['age'].max() )"
   ]
  },
  {
   "cell_type": "markdown",
   "metadata": {},
   "source": [
    "#### Question 8. Among whom is the proportion of those who earn a lot (>50K) greater: married or single men (marital-status feature)? Consider as married those who have a marital-status starting with Married (Married-civ-spouse, Married-spouse-absent or Married-AF-spouse), the rest are considered bachelors.\n",
    "\n",
    "\n"
   ]
  },
  {
   "cell_type": "code",
   "execution_count": 127,
   "metadata": {},
   "outputs": [
    {
     "name": "stdout",
     "output_type": "stream",
     "text": [
      "\t\t=================output======================\n",
      "Maried person having more than 50K salary: 5965\n",
      "single men having more than 50k salary: 697\n",
      "Maried people are getting higher >50K salary\n"
     ]
    }
   ],
   "source": [
    "a=data[(data.salary=='>50K')&(data.sex=='Male')]\n",
    "cnt=a[(a['marital-status']=='Married-civ-spouse')|(a['marital-status']=='Married-spouse-absent')|(a['marital-status']=='Married-AF-spouse')].count()['marital-status']      \n",
    "cnt1=(len(a)-cnt)\n",
    "print(\"\\t\\t=================output======================\")\n",
    "print(\"Maried person having more than 50K salary:\",cnt)\n",
    "print(\"single men having more than 50k salary:\",cnt1)\n",
    "if(cnt>cnt1):\n",
    "     print(\"Maried people are getting higher >50K salary\")\n",
    "if(cnt1>cnt):\n",
    "    print(\"single men are getting higher >50K salary\")\n",
    "if(cnt==cnt1):\n",
    "    print(\"Both married and singles are getting equal number of >50K salary\")"
   ]
  },
  {
   "cell_type": "markdown",
   "metadata": {},
   "source": [
    "#### Question 9: What is the maximum number of hours a person works per week (hours-per-week feature)? How many people work such a number of hours, and what is the percentage of those who earn a lot (>50K) among them?\n",
    "\n"
   ]
  },
  {
   "cell_type": "code",
   "execution_count": 123,
   "metadata": {},
   "outputs": [
    {
     "name": "stdout",
     "output_type": "stream",
     "text": [
      "\t\t=================output======================\n",
      "Maximum number of hours a person work: 99\n",
      "No of people working for maximum no of hours: 85\n",
      "percentage of Maximum hour working people who are earning more than 50K: 25\n"
     ]
    }
   ],
   "source": [
    "#Answer:\n",
    "\n",
    "a1=data['hours-per-week'].max()\n",
    "b1=data[data['hours-per-week'] ==a1].count()['hours-per-week']\n",
    "c1=data[(data['hours-per-week'] ==a1)&(data['salary']=='>50K')].count()['salary']\n",
    "print(\"\\t\\t=================output======================\")\n",
    "print(\"Maximum number of hours a person work:\",a1)\n",
    "print(\"No of people working for maximum no of hours:\",b1)\n",
    "print(\"percentage of Maximum hour working people who are earning more than 50K:\",c1)"
   ]
  },
  {
   "cell_type": "markdown",
   "metadata": {},
   "source": [
    "#### Question 10: Count the average time of work (hours-per-week) for those who earn a little and a lot (salary) for each country (native-country). What will these be for Japan?\n"
   ]
  },
  {
   "cell_type": "code",
   "execution_count": 124,
   "metadata": {
    "scrolled": true
   },
   "outputs": [
    {
     "data": {
      "text/html": [
       "<div>\n",
       "<style scoped>\n",
       "    .dataframe tbody tr th:only-of-type {\n",
       "        vertical-align: middle;\n",
       "    }\n",
       "\n",
       "    .dataframe tbody tr th {\n",
       "        vertical-align: top;\n",
       "    }\n",
       "\n",
       "    .dataframe thead th {\n",
       "        text-align: right;\n",
       "    }\n",
       "</style>\n",
       "<table border=\"1\" class=\"dataframe\">\n",
       "  <thead>\n",
       "    <tr style=\"text-align: right;\">\n",
       "      <th>salary</th>\n",
       "      <th>&lt;=50K</th>\n",
       "      <th>&gt;50K</th>\n",
       "    </tr>\n",
       "    <tr>\n",
       "      <th>native-country</th>\n",
       "      <th></th>\n",
       "      <th></th>\n",
       "    </tr>\n",
       "  </thead>\n",
       "  <tbody>\n",
       "    <tr>\n",
       "      <th>?</th>\n",
       "      <td>40.164760</td>\n",
       "      <td>45.547945</td>\n",
       "    </tr>\n",
       "    <tr>\n",
       "      <th>Cambodia</th>\n",
       "      <td>41.416667</td>\n",
       "      <td>40.000000</td>\n",
       "    </tr>\n",
       "    <tr>\n",
       "      <th>Canada</th>\n",
       "      <td>37.914634</td>\n",
       "      <td>45.641026</td>\n",
       "    </tr>\n",
       "    <tr>\n",
       "      <th>China</th>\n",
       "      <td>37.381818</td>\n",
       "      <td>38.900000</td>\n",
       "    </tr>\n",
       "    <tr>\n",
       "      <th>Columbia</th>\n",
       "      <td>38.684211</td>\n",
       "      <td>50.000000</td>\n",
       "    </tr>\n",
       "    <tr>\n",
       "      <th>Cuba</th>\n",
       "      <td>37.985714</td>\n",
       "      <td>42.440000</td>\n",
       "    </tr>\n",
       "    <tr>\n",
       "      <th>Dominican-Republic</th>\n",
       "      <td>42.338235</td>\n",
       "      <td>47.000000</td>\n",
       "    </tr>\n",
       "    <tr>\n",
       "      <th>Ecuador</th>\n",
       "      <td>38.041667</td>\n",
       "      <td>48.750000</td>\n",
       "    </tr>\n",
       "    <tr>\n",
       "      <th>El-Salvador</th>\n",
       "      <td>36.030928</td>\n",
       "      <td>45.000000</td>\n",
       "    </tr>\n",
       "    <tr>\n",
       "      <th>England</th>\n",
       "      <td>40.483333</td>\n",
       "      <td>44.533333</td>\n",
       "    </tr>\n",
       "    <tr>\n",
       "      <th>France</th>\n",
       "      <td>41.058824</td>\n",
       "      <td>50.750000</td>\n",
       "    </tr>\n",
       "    <tr>\n",
       "      <th>Germany</th>\n",
       "      <td>39.139785</td>\n",
       "      <td>44.977273</td>\n",
       "    </tr>\n",
       "    <tr>\n",
       "      <th>Greece</th>\n",
       "      <td>41.809524</td>\n",
       "      <td>50.625000</td>\n",
       "    </tr>\n",
       "    <tr>\n",
       "      <th>Guatemala</th>\n",
       "      <td>39.360656</td>\n",
       "      <td>36.666667</td>\n",
       "    </tr>\n",
       "    <tr>\n",
       "      <th>Haiti</th>\n",
       "      <td>36.325000</td>\n",
       "      <td>42.750000</td>\n",
       "    </tr>\n",
       "    <tr>\n",
       "      <th>Holand-Netherlands</th>\n",
       "      <td>40.000000</td>\n",
       "      <td>NaN</td>\n",
       "    </tr>\n",
       "    <tr>\n",
       "      <th>Honduras</th>\n",
       "      <td>34.333333</td>\n",
       "      <td>60.000000</td>\n",
       "    </tr>\n",
       "    <tr>\n",
       "      <th>Hong</th>\n",
       "      <td>39.142857</td>\n",
       "      <td>45.000000</td>\n",
       "    </tr>\n",
       "    <tr>\n",
       "      <th>Hungary</th>\n",
       "      <td>31.300000</td>\n",
       "      <td>50.000000</td>\n",
       "    </tr>\n",
       "    <tr>\n",
       "      <th>India</th>\n",
       "      <td>38.233333</td>\n",
       "      <td>46.475000</td>\n",
       "    </tr>\n",
       "    <tr>\n",
       "      <th>Iran</th>\n",
       "      <td>41.440000</td>\n",
       "      <td>47.500000</td>\n",
       "    </tr>\n",
       "    <tr>\n",
       "      <th>Ireland</th>\n",
       "      <td>40.947368</td>\n",
       "      <td>48.000000</td>\n",
       "    </tr>\n",
       "    <tr>\n",
       "      <th>Italy</th>\n",
       "      <td>39.625000</td>\n",
       "      <td>45.400000</td>\n",
       "    </tr>\n",
       "    <tr>\n",
       "      <th>Jamaica</th>\n",
       "      <td>38.239437</td>\n",
       "      <td>41.100000</td>\n",
       "    </tr>\n",
       "    <tr>\n",
       "      <th>Japan</th>\n",
       "      <td>41.000000</td>\n",
       "      <td>47.958333</td>\n",
       "    </tr>\n",
       "    <tr>\n",
       "      <th>Laos</th>\n",
       "      <td>40.375000</td>\n",
       "      <td>40.000000</td>\n",
       "    </tr>\n",
       "    <tr>\n",
       "      <th>Mexico</th>\n",
       "      <td>40.003279</td>\n",
       "      <td>46.575758</td>\n",
       "    </tr>\n",
       "    <tr>\n",
       "      <th>Nicaragua</th>\n",
       "      <td>36.093750</td>\n",
       "      <td>37.500000</td>\n",
       "    </tr>\n",
       "    <tr>\n",
       "      <th>Outlying-US(Guam-USVI-etc)</th>\n",
       "      <td>41.857143</td>\n",
       "      <td>NaN</td>\n",
       "    </tr>\n",
       "    <tr>\n",
       "      <th>Peru</th>\n",
       "      <td>35.068966</td>\n",
       "      <td>40.000000</td>\n",
       "    </tr>\n",
       "    <tr>\n",
       "      <th>Philippines</th>\n",
       "      <td>38.065693</td>\n",
       "      <td>43.032787</td>\n",
       "    </tr>\n",
       "    <tr>\n",
       "      <th>Poland</th>\n",
       "      <td>38.166667</td>\n",
       "      <td>39.000000</td>\n",
       "    </tr>\n",
       "    <tr>\n",
       "      <th>Portugal</th>\n",
       "      <td>41.939394</td>\n",
       "      <td>41.500000</td>\n",
       "    </tr>\n",
       "    <tr>\n",
       "      <th>Puerto-Rico</th>\n",
       "      <td>38.470588</td>\n",
       "      <td>39.416667</td>\n",
       "    </tr>\n",
       "    <tr>\n",
       "      <th>Scotland</th>\n",
       "      <td>39.444444</td>\n",
       "      <td>46.666667</td>\n",
       "    </tr>\n",
       "    <tr>\n",
       "      <th>South</th>\n",
       "      <td>40.156250</td>\n",
       "      <td>51.437500</td>\n",
       "    </tr>\n",
       "    <tr>\n",
       "      <th>Taiwan</th>\n",
       "      <td>33.774194</td>\n",
       "      <td>46.800000</td>\n",
       "    </tr>\n",
       "    <tr>\n",
       "      <th>Thailand</th>\n",
       "      <td>42.866667</td>\n",
       "      <td>58.333333</td>\n",
       "    </tr>\n",
       "    <tr>\n",
       "      <th>Trinadad&amp;Tobago</th>\n",
       "      <td>37.058824</td>\n",
       "      <td>40.000000</td>\n",
       "    </tr>\n",
       "    <tr>\n",
       "      <th>United-States</th>\n",
       "      <td>38.799127</td>\n",
       "      <td>45.505369</td>\n",
       "    </tr>\n",
       "    <tr>\n",
       "      <th>Vietnam</th>\n",
       "      <td>37.193548</td>\n",
       "      <td>39.200000</td>\n",
       "    </tr>\n",
       "    <tr>\n",
       "      <th>Yugoslavia</th>\n",
       "      <td>41.600000</td>\n",
       "      <td>49.500000</td>\n",
       "    </tr>\n",
       "  </tbody>\n",
       "</table>\n",
       "</div>"
      ],
      "text/plain": [
       "salary                          <=50K       >50K\n",
       "native-country                                  \n",
       "?                           40.164760  45.547945\n",
       "Cambodia                    41.416667  40.000000\n",
       "Canada                      37.914634  45.641026\n",
       "China                       37.381818  38.900000\n",
       "Columbia                    38.684211  50.000000\n",
       "Cuba                        37.985714  42.440000\n",
       "Dominican-Republic          42.338235  47.000000\n",
       "Ecuador                     38.041667  48.750000\n",
       "El-Salvador                 36.030928  45.000000\n",
       "England                     40.483333  44.533333\n",
       "France                      41.058824  50.750000\n",
       "Germany                     39.139785  44.977273\n",
       "Greece                      41.809524  50.625000\n",
       "Guatemala                   39.360656  36.666667\n",
       "Haiti                       36.325000  42.750000\n",
       "Holand-Netherlands          40.000000        NaN\n",
       "Honduras                    34.333333  60.000000\n",
       "Hong                        39.142857  45.000000\n",
       "Hungary                     31.300000  50.000000\n",
       "India                       38.233333  46.475000\n",
       "Iran                        41.440000  47.500000\n",
       "Ireland                     40.947368  48.000000\n",
       "Italy                       39.625000  45.400000\n",
       "Jamaica                     38.239437  41.100000\n",
       "Japan                       41.000000  47.958333\n",
       "Laos                        40.375000  40.000000\n",
       "Mexico                      40.003279  46.575758\n",
       "Nicaragua                   36.093750  37.500000\n",
       "Outlying-US(Guam-USVI-etc)  41.857143        NaN\n",
       "Peru                        35.068966  40.000000\n",
       "Philippines                 38.065693  43.032787\n",
       "Poland                      38.166667  39.000000\n",
       "Portugal                    41.939394  41.500000\n",
       "Puerto-Rico                 38.470588  39.416667\n",
       "Scotland                    39.444444  46.666667\n",
       "South                       40.156250  51.437500\n",
       "Taiwan                      33.774194  46.800000\n",
       "Thailand                    42.866667  58.333333\n",
       "Trinadad&Tobago             37.058824  40.000000\n",
       "United-States               38.799127  45.505369\n",
       "Vietnam                     37.193548  39.200000\n",
       "Yugoslavia                  41.600000  49.500000"
      ]
     },
     "execution_count": 124,
     "metadata": {},
     "output_type": "execute_result"
    }
   ],
   "source": [
    "#Code\n",
    "pd.crosstab(adult['native-country'], adult['salary'], \n",
    "           values=adult['hours-per-week'], aggfunc=np.mean)\n",
    "#The pandas crosstab function builds a cross-tabulation table that can show the \n",
    "#frequency OR average based on the aggfunction .\n"
   ]
  },
  {
   "cell_type": "code",
   "execution_count": 79,
   "metadata": {},
   "outputs": [
    {
     "name": "stdout",
     "output_type": "stream",
     "text": [
      "\t\t=================EXTRA QUESTIONS======================\n"
     ]
    }
   ],
   "source": [
    "print(\"\\t\\t=================EXTRA QUESTIONS======================\")"
   ]
  },
  {
   "cell_type": "markdown",
   "metadata": {},
   "source": [
    "#### 11.Display the No of people working in State-gov with higher education\n"
   ]
  },
  {
   "cell_type": "code",
   "execution_count": 125,
   "metadata": {},
   "outputs": [
    {
     "name": "stdout",
     "output_type": "stream",
     "text": [
      "\t\t=================OUTPUT======================\n",
      "No of people working i state goverment with higher education and having salary more than 50K: 262\n"
     ]
    }
   ],
   "source": [
    "#Answer:\n",
    "\n",
    "ans=data[(data['workclass']=='State-gov')&(data['education']!='Assoc-acdm')&((data['education']=='Bachelors')|(data['education']=='Assoc-voc')|(data['education']=='Prof-school')|(data['education']=='Masters')|(data['education']=='Doctorate'))&(data['salary']=='>50K')].count()['salary']\n",
    "print(\"\\t\\t=================OUTPUT======================\")\n",
    "print(\"No of people working i state goverment with higher education and having salary more than 50K:\",ans)"
   ]
  },
  {
   "cell_type": "markdown",
   "metadata": {},
   "source": [
    "#### Question 12:Display the count of higher salary and lower salary people in occupation wise.\n"
   ]
  },
  {
   "cell_type": "code",
   "execution_count": 95,
   "metadata": {},
   "outputs": [
    {
     "name": "stdout",
     "output_type": "stream",
     "text": [
      "\t===============people having higher salary in occupation wise====================\n",
      " occupation\n",
      "?                     191\n",
      "Adm-clerical          507\n",
      "Armed-Forces            1\n",
      "Craft-repair          929\n",
      "Exec-managerial      1968\n",
      "Farming-fishing       115\n",
      "Handlers-cleaners      86\n",
      "Machine-op-inspct     250\n",
      "Other-service         137\n",
      "Priv-house-serv         1\n",
      "Prof-specialty       1859\n",
      "Protective-serv       211\n",
      "Sales                 983\n",
      "Tech-support          283\n",
      "Transport-moving      320\n",
      "Name: salary, dtype: int64\n",
      "\t===============people having lower salary in occupation wise====================\n",
      " occupation\n",
      "?                    1652\n",
      "Adm-clerical         3263\n",
      "Armed-Forces            8\n",
      "Craft-repair         3170\n",
      "Exec-managerial      2098\n",
      "Farming-fishing       879\n",
      "Handlers-cleaners    1284\n",
      "Machine-op-inspct    1752\n",
      "Other-service        3158\n",
      "Priv-house-serv       148\n",
      "Prof-specialty       2281\n",
      "Protective-serv       438\n",
      "Sales                2667\n",
      "Tech-support          645\n",
      "Transport-moving     1277\n",
      "Name: salary, dtype: int64\n"
     ]
    }
   ],
   "source": [
    "#Answer:\n",
    "\n",
    "s=data[data['salary']=='>50K']\n",
    "s1=data[data['salary']=='<=50K']\n",
    "cnt=s.groupby('occupation')['salary'].count()\n",
    "cnt1=s1.groupby('occupation')['salary'].count()\n",
    "print(\"\\t===============people having higher salary in occupation wise====================\\n\",cnt )\n",
    "print(\"\\t===============people having lower salary in occupation wise====================\\n\",cnt1 )"
   ]
  },
  {
   "cell_type": "markdown",
   "metadata": {},
   "source": [
    "#### Question 13:Display the average age of people for all nation."
   ]
  },
  {
   "cell_type": "code",
   "execution_count": 96,
   "metadata": {},
   "outputs": [
    {
     "name": "stdout",
     "output_type": "stream",
     "text": [
      "Average age of people for all nation\n",
      " native-country\n",
      "?                             39.0\n",
      "Cambodia                      38.0\n",
      "Canada                        43.0\n",
      "China                         43.0\n",
      "Columbia                      40.0\n",
      "Cuba                          46.0\n",
      "Dominican-Republic            38.0\n",
      "Ecuador                       37.0\n",
      "El-Salvador                   34.0\n",
      "England                       41.0\n",
      "France                        39.0\n",
      "Germany                       39.0\n",
      "Greece                        46.0\n",
      "Guatemala                     32.0\n",
      "Haiti                         38.0\n",
      "Holand-Netherlands            32.0\n",
      "Honduras                      34.0\n",
      "Hong                          34.0\n",
      "Hungary                       49.0\n",
      "India                         38.0\n",
      "Iran                          39.0\n",
      "Ireland                       36.0\n",
      "Italy                         46.0\n",
      "Jamaica                       36.0\n",
      "Japan                         38.0\n",
      "Laos                          35.0\n",
      "Mexico                        33.0\n",
      "Nicaragua                     34.0\n",
      "Outlying-US(Guam-USVI-etc)    39.0\n",
      "Peru                          35.0\n",
      "Philippines                   39.0\n",
      "Poland                        43.0\n",
      "Portugal                      40.0\n",
      "Puerto-Rico                   41.0\n",
      "Scotland                      40.0\n",
      "South                         39.0\n",
      "Taiwan                        34.0\n",
      "Thailand                      35.0\n",
      "Trinadad&Tobago               41.0\n",
      "United-States                 39.0\n",
      "Vietnam                       34.0\n",
      "Yugoslavia                    39.0\n",
      "Name: age, dtype: float64\n"
     ]
    }
   ],
   "source": [
    "#Answer:\n",
    "\n",
    "ans=data.groupby('native-country').mean()['age']\n",
    "print(\"Average age of people for all nation\\n\",round(ans))"
   ]
  },
  {
   "cell_type": "markdown",
   "metadata": {},
   "source": [
    "#### Question 14:Is there is any relation between working hours and salary."
   ]
  },
  {
   "cell_type": "code",
   "execution_count": null,
   "metadata": {},
   "outputs": [],
   "source": [
    "#Answer:\n",
    "ans=round(data['hours-per-week'].mean())\n",
    "ans1=data[(data['salary']=='>50K')&(data['hours-per-week']>=ans)].count()['hours-per-week']\n",
    "ans2=data[(data['salary']=='>50K')&(data['hours-per-week']<=ans)].count()['hours-per-week']\n",
    "print(ans1,ans2)\n",
    "print(\"There is no relation between these two variables\")"
   ]
  },
  {
   "cell_type": "markdown",
   "metadata": {},
   "source": [
    "#### Question 15:calculate the frequency of workclass."
   ]
  },
  {
   "cell_type": "code",
   "execution_count": 94,
   "metadata": {},
   "outputs": [
    {
     "data": {
      "text/html": [
       "<div>\n",
       "<style scoped>\n",
       "    .dataframe tbody tr th:only-of-type {\n",
       "        vertical-align: middle;\n",
       "    }\n",
       "\n",
       "    .dataframe tbody tr th {\n",
       "        vertical-align: top;\n",
       "    }\n",
       "\n",
       "    .dataframe thead th {\n",
       "        text-align: right;\n",
       "    }\n",
       "</style>\n",
       "<table border=\"1\" class=\"dataframe\">\n",
       "  <thead>\n",
       "    <tr style=\"text-align: right;\">\n",
       "      <th></th>\n",
       "      <th>age</th>\n",
       "      <th>fnlwgt</th>\n",
       "      <th>education</th>\n",
       "      <th>education-num</th>\n",
       "      <th>marital-status</th>\n",
       "      <th>occupation</th>\n",
       "      <th>relationship</th>\n",
       "      <th>race</th>\n",
       "      <th>sex</th>\n",
       "      <th>capital-gain</th>\n",
       "      <th>capital-loss</th>\n",
       "      <th>hours-per-week</th>\n",
       "      <th>native-country</th>\n",
       "      <th>salary</th>\n",
       "    </tr>\n",
       "    <tr>\n",
       "      <th>workclass</th>\n",
       "      <th></th>\n",
       "      <th></th>\n",
       "      <th></th>\n",
       "      <th></th>\n",
       "      <th></th>\n",
       "      <th></th>\n",
       "      <th></th>\n",
       "      <th></th>\n",
       "      <th></th>\n",
       "      <th></th>\n",
       "      <th></th>\n",
       "      <th></th>\n",
       "      <th></th>\n",
       "      <th></th>\n",
       "    </tr>\n",
       "  </thead>\n",
       "  <tbody>\n",
       "    <tr>\n",
       "      <th>?</th>\n",
       "      <td>1836</td>\n",
       "      <td>1836</td>\n",
       "      <td>1836</td>\n",
       "      <td>1836</td>\n",
       "      <td>1836</td>\n",
       "      <td>1836</td>\n",
       "      <td>1836</td>\n",
       "      <td>1836</td>\n",
       "      <td>1836</td>\n",
       "      <td>1836</td>\n",
       "      <td>1836</td>\n",
       "      <td>1836</td>\n",
       "      <td>1836</td>\n",
       "      <td>1836</td>\n",
       "    </tr>\n",
       "    <tr>\n",
       "      <th>Federal-gov</th>\n",
       "      <td>960</td>\n",
       "      <td>960</td>\n",
       "      <td>960</td>\n",
       "      <td>960</td>\n",
       "      <td>960</td>\n",
       "      <td>960</td>\n",
       "      <td>960</td>\n",
       "      <td>960</td>\n",
       "      <td>960</td>\n",
       "      <td>960</td>\n",
       "      <td>960</td>\n",
       "      <td>960</td>\n",
       "      <td>960</td>\n",
       "      <td>960</td>\n",
       "    </tr>\n",
       "    <tr>\n",
       "      <th>Local-gov</th>\n",
       "      <td>2093</td>\n",
       "      <td>2093</td>\n",
       "      <td>2093</td>\n",
       "      <td>2093</td>\n",
       "      <td>2093</td>\n",
       "      <td>2093</td>\n",
       "      <td>2093</td>\n",
       "      <td>2093</td>\n",
       "      <td>2093</td>\n",
       "      <td>2093</td>\n",
       "      <td>2093</td>\n",
       "      <td>2093</td>\n",
       "      <td>2093</td>\n",
       "      <td>2093</td>\n",
       "    </tr>\n",
       "    <tr>\n",
       "      <th>Never-worked</th>\n",
       "      <td>7</td>\n",
       "      <td>7</td>\n",
       "      <td>7</td>\n",
       "      <td>7</td>\n",
       "      <td>7</td>\n",
       "      <td>7</td>\n",
       "      <td>7</td>\n",
       "      <td>7</td>\n",
       "      <td>7</td>\n",
       "      <td>7</td>\n",
       "      <td>7</td>\n",
       "      <td>7</td>\n",
       "      <td>7</td>\n",
       "      <td>7</td>\n",
       "    </tr>\n",
       "    <tr>\n",
       "      <th>Private</th>\n",
       "      <td>22696</td>\n",
       "      <td>22696</td>\n",
       "      <td>22696</td>\n",
       "      <td>22696</td>\n",
       "      <td>22696</td>\n",
       "      <td>22696</td>\n",
       "      <td>22696</td>\n",
       "      <td>22696</td>\n",
       "      <td>22696</td>\n",
       "      <td>22696</td>\n",
       "      <td>22696</td>\n",
       "      <td>22696</td>\n",
       "      <td>22696</td>\n",
       "      <td>22696</td>\n",
       "    </tr>\n",
       "    <tr>\n",
       "      <th>Self-emp-inc</th>\n",
       "      <td>1116</td>\n",
       "      <td>1116</td>\n",
       "      <td>1116</td>\n",
       "      <td>1116</td>\n",
       "      <td>1116</td>\n",
       "      <td>1116</td>\n",
       "      <td>1116</td>\n",
       "      <td>1116</td>\n",
       "      <td>1116</td>\n",
       "      <td>1116</td>\n",
       "      <td>1116</td>\n",
       "      <td>1116</td>\n",
       "      <td>1116</td>\n",
       "      <td>1116</td>\n",
       "    </tr>\n",
       "    <tr>\n",
       "      <th>Self-emp-not-inc</th>\n",
       "      <td>2541</td>\n",
       "      <td>2541</td>\n",
       "      <td>2541</td>\n",
       "      <td>2541</td>\n",
       "      <td>2541</td>\n",
       "      <td>2541</td>\n",
       "      <td>2541</td>\n",
       "      <td>2541</td>\n",
       "      <td>2541</td>\n",
       "      <td>2541</td>\n",
       "      <td>2541</td>\n",
       "      <td>2541</td>\n",
       "      <td>2541</td>\n",
       "      <td>2541</td>\n",
       "    </tr>\n",
       "    <tr>\n",
       "      <th>State-gov</th>\n",
       "      <td>1298</td>\n",
       "      <td>1298</td>\n",
       "      <td>1298</td>\n",
       "      <td>1298</td>\n",
       "      <td>1298</td>\n",
       "      <td>1298</td>\n",
       "      <td>1298</td>\n",
       "      <td>1298</td>\n",
       "      <td>1298</td>\n",
       "      <td>1298</td>\n",
       "      <td>1298</td>\n",
       "      <td>1298</td>\n",
       "      <td>1298</td>\n",
       "      <td>1298</td>\n",
       "    </tr>\n",
       "    <tr>\n",
       "      <th>Without-pay</th>\n",
       "      <td>14</td>\n",
       "      <td>14</td>\n",
       "      <td>14</td>\n",
       "      <td>14</td>\n",
       "      <td>14</td>\n",
       "      <td>14</td>\n",
       "      <td>14</td>\n",
       "      <td>14</td>\n",
       "      <td>14</td>\n",
       "      <td>14</td>\n",
       "      <td>14</td>\n",
       "      <td>14</td>\n",
       "      <td>14</td>\n",
       "      <td>14</td>\n",
       "    </tr>\n",
       "  </tbody>\n",
       "</table>\n",
       "</div>"
      ],
      "text/plain": [
       "                    age  fnlwgt  education  education-num  marital-status  \\\n",
       "workclass                                                                   \n",
       "?                  1836    1836       1836           1836            1836   \n",
       "Federal-gov         960     960        960            960             960   \n",
       "Local-gov          2093    2093       2093           2093            2093   \n",
       "Never-worked          7       7          7              7               7   \n",
       "Private           22696   22696      22696          22696           22696   \n",
       "Self-emp-inc       1116    1116       1116           1116            1116   \n",
       "Self-emp-not-inc   2541    2541       2541           2541            2541   \n",
       "State-gov          1298    1298       1298           1298            1298   \n",
       "Without-pay          14      14         14             14              14   \n",
       "\n",
       "                  occupation  relationship   race    sex  capital-gain  \\\n",
       "workclass                                                                \n",
       "?                       1836          1836   1836   1836          1836   \n",
       "Federal-gov              960           960    960    960           960   \n",
       "Local-gov               2093          2093   2093   2093          2093   \n",
       "Never-worked               7             7      7      7             7   \n",
       "Private                22696         22696  22696  22696         22696   \n",
       "Self-emp-inc            1116          1116   1116   1116          1116   \n",
       "Self-emp-not-inc        2541          2541   2541   2541          2541   \n",
       "State-gov               1298          1298   1298   1298          1298   \n",
       "Without-pay               14            14     14     14            14   \n",
       "\n",
       "                  capital-loss  hours-per-week  native-country  salary  \n",
       "workclass                                                               \n",
       "?                         1836            1836            1836    1836  \n",
       "Federal-gov                960             960             960     960  \n",
       "Local-gov                 2093            2093            2093    2093  \n",
       "Never-worked                 7               7               7       7  \n",
       "Private                  22696           22696           22696   22696  \n",
       "Self-emp-inc              1116            1116            1116    1116  \n",
       "Self-emp-not-inc          2541            2541            2541    2541  \n",
       "State-gov                 1298            1298            1298    1298  \n",
       "Without-pay                 14              14              14      14  "
      ]
     },
     "execution_count": 94,
     "metadata": {},
     "output_type": "execute_result"
    }
   ],
   "source": [
    "#Answer:\n",
    "data.groupby('workclass').count()"
   ]
  },
  {
   "cell_type": "markdown",
   "metadata": {},
   "source": [
    "#### Question 16:calculate the count of Indian having more than 50K salary."
   ]
  },
  {
   "cell_type": "code",
   "execution_count": 93,
   "metadata": {},
   "outputs": [
    {
     "name": "stdout",
     "output_type": "stream",
     "text": [
      "Indian having more than 50K salary: 40\n"
     ]
    }
   ],
   "source": [
    "#Answer:\n",
    "ans=data[(data['native-country']=='India')&(data['salary']=='>50K')].count()['salary']\n",
    "print(\"Indian having more than 50K salary:\",ans)"
   ]
  },
  {
   "cell_type": "markdown",
   "metadata": {},
   "source": [
    "#### Question 17:calculate the maximum age in occupation wise."
   ]
  },
  {
   "cell_type": "code",
   "execution_count": 92,
   "metadata": {},
   "outputs": [
    {
     "data": {
      "text/plain": [
       "occupation\n",
       "?                    90\n",
       "Adm-clerical         90\n",
       "Armed-Forces         46\n",
       "Craft-repair         90\n",
       "Exec-managerial      90\n",
       "Farming-fishing      90\n",
       "Handlers-cleaners    90\n",
       "Machine-op-inspct    90\n",
       "Other-service        90\n",
       "Priv-house-serv      81\n",
       "Prof-specialty       90\n",
       "Protective-serv      90\n",
       "Sales                90\n",
       "Tech-support         73\n",
       "Transport-moving     90\n",
       "Name: age, dtype: int64"
      ]
     },
     "execution_count": 92,
     "metadata": {},
     "output_type": "execute_result"
    }
   ],
   "source": [
    "#Answer:\n",
    "data.groupby('occupation').max()['age']"
   ]
  },
  {
   "cell_type": "markdown",
   "metadata": {},
   "source": [
    "#### Question 18:calculate the frequency of race for indian citizen."
   ]
  },
  {
   "cell_type": "code",
   "execution_count": 91,
   "metadata": {},
   "outputs": [
    {
     "name": "stdout",
     "output_type": "stream",
     "text": [
      "Frequency of race for indian citizen: race\n",
      "Asian-Pac-Islander    85\n",
      "Black                  2\n",
      "Other                  5\n",
      "White                  8\n",
      "Name: native-country, dtype: int64\n"
     ]
    }
   ],
   "source": [
    "#Answer\n",
    "ans1=data[data['native-country']=='India']\n",
    "ans=ans1.groupby('race')['native-country'].count()\n",
    "print(\"Frequency of race for indian citizen:\",ans)"
   ]
  },
  {
   "cell_type": "markdown",
   "metadata": {},
   "source": [
    "#### Question 19:calculate average age for each gender."
   ]
  },
  {
   "cell_type": "code",
   "execution_count": 87,
   "metadata": {},
   "outputs": [
    {
     "data": {
      "text/plain": [
       "sex\n",
       "Female    36.858230\n",
       "Male      39.433547\n",
       "Name: age, dtype: float64"
      ]
     },
     "execution_count": 87,
     "metadata": {},
     "output_type": "execute_result"
    }
   ],
   "source": [
    "#Answer:\n",
    "data.groupby('sex').mean()['age']#Answer:\n"
   ]
  },
  {
   "cell_type": "markdown",
   "metadata": {},
   "source": [
    "#### Question 20:Display the count of person who are working privately and got maried having the salary of more than 50K."
   ]
  },
  {
   "cell_type": "code",
   "execution_count": 88,
   "metadata": {},
   "outputs": [
    {
     "name": "stdout",
     "output_type": "stream",
     "text": [
      "Person who are working privately and got maried having the salary of more than 50K: 4247\n"
     ]
    }
   ],
   "source": [
    "#Answer:\n",
    "ans=data[(data['workclass']=='Private')&((data['marital-status']=='Married-civ-spouse')|(data['marital-status']=='Married-spouse-absent')|(data['marital-status']=='Married-AF-spouse'))&(data['salary']=='>50K')].count()['salary']                                                                     \n",
    "print(\"Person who are working privately and got maried having the salary of more than 50K:\",ans)"
   ]
  },
  {
   "cell_type": "markdown",
   "metadata": {},
   "source": [
    "#### Question-21  Represent the workclass based on the count?"
   ]
  },
  {
   "cell_type": "code",
   "execution_count": 90,
   "metadata": {},
   "outputs": [
    {
     "data": {
      "text/plain": [
       "<matplotlib.axes._subplots.AxesSubplot at 0x20d6d517390>"
      ]
     },
     "execution_count": 90,
     "metadata": {},
     "output_type": "execute_result"
    },
    {
     "data": {
      "image/png": "[encoded data removed]",
      "text/plain": [
       "<Figure size 1440x576 with 1 Axes>"
      ]
     },
     "metadata": {},
     "output_type": "display_data"
    }
   ],
   "source": [
    "#Answer:\n",
    "se=data.groupby('workclass')['salary'].count()\n",
    "se\n",
    "import matplotlib.pyplot as plt\n",
    "plt.style.use('ggplot')\n",
    "se.T.plot(kind='barh', figsize=(20,8))"
   ]
  },
  {
   "cell_type": "markdown",
   "metadata": {},
   "source": [
    "#### Question 22 :What is the mean age of those working in the Armed Forces?"
   ]
  },
  {
   "cell_type": "code",
   "execution_count": 99,
   "metadata": {},
   "outputs": [
    {
     "name": "stdout",
     "output_type": "stream",
     "text": [
      "The Average age of people working in Armed forces is 30.2\n"
     ]
    }
   ],
   "source": [
    "#Answer:\n",
    "avg=data.loc[data['occupation']=='Armed-Forces','age'].mean()\n",
    "print(\"The Average age of people working in Armed forces is\",round(avg,1))"
   ]
  },
  {
   "cell_type": "markdown",
   "metadata": {},
   "source": [
    "#### Question 23 : What is the total average value of hours per week that males and females each work"
   ]
  },
  {
   "cell_type": "code",
   "execution_count": 102,
   "metadata": {},
   "outputs": [
    {
     "name": "stdout",
     "output_type": "stream",
     "text": [
      " The total average value of hours per week that males and females work are\n",
      " sex\n",
      "Female    36.410361\n",
      "Male      42.428086\n",
      "Name: hours-per-week, dtype: float64\n"
     ]
    }
   ],
   "source": [
    "#Code:\n",
    "hr=data.groupby('sex').mean()['hours-per-week']\n",
    "print(\" The total average value of hours per week that males and females work are\\n\",hr)"
   ]
  },
  {
   "cell_type": "code",
   "execution_count": null,
   "metadata": {},
   "outputs": [],
   "source": []
  },
  {
   "cell_type": "code",
   "execution_count": null,
   "metadata": {},
   "outputs": [],
   "source": []
  },
  {
   "cell_type": "code",
   "execution_count": null,
   "metadata": {},
   "outputs": [],
   "source": []
  },
  {
   "cell_type": "code",
   "execution_count": null,
   "metadata": {},
   "outputs": [],
   "source": []
  },
  {
   "cell_type": "code",
   "execution_count": null,
   "metadata": {},
   "outputs": [],
   "source": []
  }
 ],
 "metadata": {
  "kernelspec": {
   "display_name": "Python 3",
   "language": "python",
   "name": "python3"
  },
  "language_info": {
   "codemirror_mode": {
    "name": "ipython",
    "version": 3
   },
   "file_extension": ".py",
   "mimetype": "text/x-python",
   "name": "python",
   "nbconvert_exporter": "python",
   "pygments_lexer": "ipython3",
   "version": "3.7.3"
  }
 },
 "nbformat": 4,
 "nbformat_minor": 2
}
